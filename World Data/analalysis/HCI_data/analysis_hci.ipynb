{
 "cells": [
  {
   "cell_type": "code",
   "execution_count": 9,
   "metadata": {},
   "outputs": [
    {
     "data": {
      "text/html": [
       "<div>\n",
       "<style scoped>\n",
       "    .dataframe tbody tr th:only-of-type {\n",
       "        vertical-align: middle;\n",
       "    }\n",
       "\n",
       "    .dataframe tbody tr th {\n",
       "        vertical-align: top;\n",
       "    }\n",
       "\n",
       "    .dataframe thead th {\n",
       "        text-align: right;\n",
       "    }\n",
       "</style>\n",
       "<table border=\"1\" class=\"dataframe\">\n",
       "  <thead>\n",
       "    <tr style=\"text-align: right;\">\n",
       "      <th></th>\n",
       "      <th>Unnamed: 0</th>\n",
       "      <th>Country Name</th>\n",
       "      <th>Country Code</th>\n",
       "      <th>Expected Years of School</th>\n",
       "      <th>Fraction of Children Under 5 Not Stunted</th>\n",
       "      <th>Harmonized Test Scores</th>\n",
       "      <th>Human Capital Index (0-1)</th>\n",
       "      <th>Human Capital Index Lower Bound (0-1)</th>\n",
       "      <th>Human Capital Index Upper Bound (0-1)</th>\n",
       "      <th>Learning Adjusted Years of School</th>\n",
       "      <th>Probability of Survival to Age 5</th>\n",
       "      <th>Survival Rate from Age 15-60</th>\n",
       "      <th>Continent</th>\n",
       "    </tr>\n",
       "  </thead>\n",
       "  <tbody>\n",
       "    <tr>\n",
       "      <th>0</th>\n",
       "      <td>0</td>\n",
       "      <td>Afghanistan</td>\n",
       "      <td>AFG</td>\n",
       "      <td>8.901891</td>\n",
       "      <td>0.618072</td>\n",
       "      <td>354.758789</td>\n",
       "      <td>0.400284</td>\n",
       "      <td>0.387149</td>\n",
       "      <td>0.412617</td>\n",
       "      <td>5.052838</td>\n",
       "      <td>0.937724</td>\n",
       "      <td>0.787741</td>\n",
       "      <td>Asia</td>\n",
       "    </tr>\n",
       "    <tr>\n",
       "      <th>1</th>\n",
       "      <td>1</td>\n",
       "      <td>Albania</td>\n",
       "      <td>ALB</td>\n",
       "      <td>12.889381</td>\n",
       "      <td>0.886766</td>\n",
       "      <td>434.127594</td>\n",
       "      <td>0.634251</td>\n",
       "      <td>0.624726</td>\n",
       "      <td>0.643478</td>\n",
       "      <td>8.953018</td>\n",
       "      <td>0.991177</td>\n",
       "      <td>0.929366</td>\n",
       "      <td>Europe</td>\n",
       "    </tr>\n",
       "    <tr>\n",
       "      <th>2</th>\n",
       "      <td>2</td>\n",
       "      <td>Algeria</td>\n",
       "      <td>DZA</td>\n",
       "      <td>11.848035</td>\n",
       "      <td>0.883104</td>\n",
       "      <td>374.089081</td>\n",
       "      <td>0.534556</td>\n",
       "      <td>0.527311</td>\n",
       "      <td>0.541510</td>\n",
       "      <td>7.091553</td>\n",
       "      <td>0.976518</td>\n",
       "      <td>0.909282</td>\n",
       "      <td>Africa</td>\n",
       "    </tr>\n",
       "    <tr>\n",
       "      <th>3</th>\n",
       "      <td>3</td>\n",
       "      <td>American Samoa</td>\n",
       "      <td>ASM</td>\n",
       "      <td>11.282570</td>\n",
       "      <td>0.761522</td>\n",
       "      <td>397.065382</td>\n",
       "      <td>0.528862</td>\n",
       "      <td>0.510785</td>\n",
       "      <td>0.543864</td>\n",
       "      <td>7.262642</td>\n",
       "      <td>0.974916</td>\n",
       "      <td>0.845530</td>\n",
       "      <td>Oceania</td>\n",
       "    </tr>\n",
       "    <tr>\n",
       "      <th>4</th>\n",
       "      <td>4</td>\n",
       "      <td>Andorra</td>\n",
       "      <td>AND</td>\n",
       "      <td>13.206627</td>\n",
       "      <td>0.922936</td>\n",
       "      <td>491.600016</td>\n",
       "      <td>0.710769</td>\n",
       "      <td>0.701848</td>\n",
       "      <td>0.719555</td>\n",
       "      <td>10.417019</td>\n",
       "      <td>0.995263</td>\n",
       "      <td>0.910403</td>\n",
       "      <td>Europe</td>\n",
       "    </tr>\n",
       "  </tbody>\n",
       "</table>\n",
       "</div>"
      ],
      "text/plain": [
       "   Unnamed: 0    Country Name Country Code  Expected Years of School  \\\n",
       "0           0     Afghanistan          AFG                  8.901891   \n",
       "1           1         Albania          ALB                 12.889381   \n",
       "2           2         Algeria          DZA                 11.848035   \n",
       "3           3  American Samoa          ASM                 11.282570   \n",
       "4           4         Andorra          AND                 13.206627   \n",
       "\n",
       "   Fraction of Children Under 5 Not Stunted  Harmonized Test Scores  \\\n",
       "0                                  0.618072              354.758789   \n",
       "1                                  0.886766              434.127594   \n",
       "2                                  0.883104              374.089081   \n",
       "3                                  0.761522              397.065382   \n",
       "4                                  0.922936              491.600016   \n",
       "\n",
       "    Human Capital Index (0-1)  Human Capital Index Lower Bound (0-1)  \\\n",
       "0                    0.400284                               0.387149   \n",
       "1                    0.634251                               0.624726   \n",
       "2                    0.534556                               0.527311   \n",
       "3                    0.528862                               0.510785   \n",
       "4                    0.710769                               0.701848   \n",
       "\n",
       "   Human Capital Index Upper Bound (0-1)  Learning Adjusted Years of School  \\\n",
       "0                               0.412617                           5.052838   \n",
       "1                               0.643478                           8.953018   \n",
       "2                               0.541510                           7.091553   \n",
       "3                               0.543864                           7.262642   \n",
       "4                               0.719555                          10.417019   \n",
       "\n",
       "   Probability of Survival to Age 5  Survival Rate from Age 15-60 Continent  \n",
       "0                          0.937724                      0.787741      Asia  \n",
       "1                          0.991177                      0.929366    Europe  \n",
       "2                          0.976518                      0.909282    Africa  \n",
       "3                          0.974916                      0.845530   Oceania  \n",
       "4                          0.995263                      0.910403    Europe  "
      ]
     },
     "execution_count": 9,
     "metadata": {},
     "output_type": "execute_result"
    }
   ],
   "source": [
    "import pandas as pd\n",
    "import numpy as np\n",
    "\n",
    "df = pd.read_csv('cleaned_hci.csv')\n",
    "df.head()"
   ]
  },
  {
   "cell_type": "code",
   "execution_count": 10,
   "metadata": {},
   "outputs": [],
   "source": [
    "df.drop(['Unnamed: 0'],axis = 1,inplace=True)"
   ]
  },
  {
   "attachments": {},
   "cell_type": "markdown",
   "metadata": {},
   "source": [
    "the weight porcesss will be used here as well but the data needed to be scale first. Most of the columns in the df are scaled from 0-1 so I will be doing the same."
   ]
  },
  {
   "cell_type": "code",
   "execution_count": 11,
   "metadata": {},
   "outputs": [
    {
     "data": {
      "text/html": [
       "<div>\n",
       "<style scoped>\n",
       "    .dataframe tbody tr th:only-of-type {\n",
       "        vertical-align: middle;\n",
       "    }\n",
       "\n",
       "    .dataframe tbody tr th {\n",
       "        vertical-align: top;\n",
       "    }\n",
       "\n",
       "    .dataframe thead th {\n",
       "        text-align: right;\n",
       "    }\n",
       "</style>\n",
       "<table border=\"1\" class=\"dataframe\">\n",
       "  <thead>\n",
       "    <tr style=\"text-align: right;\">\n",
       "      <th></th>\n",
       "      <th>Country Name</th>\n",
       "      <th>Country Code</th>\n",
       "      <th>expected years of school(scaled)</th>\n",
       "      <th>Fraction of Children Under 5 Not Stunted</th>\n",
       "      <th>Harmonized Test Scores(scaled)</th>\n",
       "      <th>Human Capital Index (0-1)</th>\n",
       "      <th>Human Capital Index Lower Bound (0-1)</th>\n",
       "      <th>Human Capital Index Upper Bound (0-1)</th>\n",
       "      <th>Learning Adjusted Years of School(scaled)</th>\n",
       "      <th>Probability of Survival to Age 5</th>\n",
       "      <th>Survival Rate from Age 15-60</th>\n",
       "      <th>Continent</th>\n",
       "    </tr>\n",
       "  </thead>\n",
       "  <tbody>\n",
       "    <tr>\n",
       "      <th>0</th>\n",
       "      <td>Afghanistan</td>\n",
       "      <td>AFG</td>\n",
       "      <td>0.638750</td>\n",
       "      <td>0.618072</td>\n",
       "      <td>0.616680</td>\n",
       "      <td>0.400284</td>\n",
       "      <td>0.387149</td>\n",
       "      <td>0.412617</td>\n",
       "      <td>0.394344</td>\n",
       "      <td>0.937724</td>\n",
       "      <td>0.787741</td>\n",
       "      <td>Asia</td>\n",
       "    </tr>\n",
       "    <tr>\n",
       "      <th>1</th>\n",
       "      <td>Albania</td>\n",
       "      <td>ALB</td>\n",
       "      <td>0.924870</td>\n",
       "      <td>0.886766</td>\n",
       "      <td>0.754647</td>\n",
       "      <td>0.634251</td>\n",
       "      <td>0.624726</td>\n",
       "      <td>0.643478</td>\n",
       "      <td>0.698729</td>\n",
       "      <td>0.991177</td>\n",
       "      <td>0.929366</td>\n",
       "      <td>Europe</td>\n",
       "    </tr>\n",
       "    <tr>\n",
       "      <th>2</th>\n",
       "      <td>Algeria</td>\n",
       "      <td>DZA</td>\n",
       "      <td>0.850149</td>\n",
       "      <td>0.883104</td>\n",
       "      <td>0.650282</td>\n",
       "      <td>0.534556</td>\n",
       "      <td>0.527311</td>\n",
       "      <td>0.541510</td>\n",
       "      <td>0.553453</td>\n",
       "      <td>0.976518</td>\n",
       "      <td>0.909282</td>\n",
       "      <td>Africa</td>\n",
       "    </tr>\n",
       "    <tr>\n",
       "      <th>3</th>\n",
       "      <td>American Samoa</td>\n",
       "      <td>ASM</td>\n",
       "      <td>0.809574</td>\n",
       "      <td>0.761522</td>\n",
       "      <td>0.690222</td>\n",
       "      <td>0.528862</td>\n",
       "      <td>0.510785</td>\n",
       "      <td>0.543864</td>\n",
       "      <td>0.566805</td>\n",
       "      <td>0.974916</td>\n",
       "      <td>0.845530</td>\n",
       "      <td>Oceania</td>\n",
       "    </tr>\n",
       "    <tr>\n",
       "      <th>4</th>\n",
       "      <td>Andorra</td>\n",
       "      <td>AND</td>\n",
       "      <td>0.947634</td>\n",
       "      <td>0.922936</td>\n",
       "      <td>0.854552</td>\n",
       "      <td>0.710769</td>\n",
       "      <td>0.701848</td>\n",
       "      <td>0.719555</td>\n",
       "      <td>0.812986</td>\n",
       "      <td>0.995263</td>\n",
       "      <td>0.910403</td>\n",
       "      <td>Europe</td>\n",
       "    </tr>\n",
       "    <tr>\n",
       "      <th>...</th>\n",
       "      <td>...</td>\n",
       "      <td>...</td>\n",
       "      <td>...</td>\n",
       "      <td>...</td>\n",
       "      <td>...</td>\n",
       "      <td>...</td>\n",
       "      <td>...</td>\n",
       "      <td>...</td>\n",
       "      <td>...</td>\n",
       "      <td>...</td>\n",
       "      <td>...</td>\n",
       "      <td>...</td>\n",
       "    </tr>\n",
       "    <tr>\n",
       "      <th>210</th>\n",
       "      <td>Virgin Islands (U.S.)</td>\n",
       "      <td>VIR</td>\n",
       "      <td>0.860326</td>\n",
       "      <td>0.835751</td>\n",
       "      <td>0.719697</td>\n",
       "      <td>0.566024</td>\n",
       "      <td>0.552886</td>\n",
       "      <td>0.577625</td>\n",
       "      <td>0.623011</td>\n",
       "      <td>0.981438</td>\n",
       "      <td>0.862782</td>\n",
       "      <td>North America</td>\n",
       "    </tr>\n",
       "    <tr>\n",
       "      <th>211</th>\n",
       "      <td>West Bank and Gaza</td>\n",
       "      <td>PSE</td>\n",
       "      <td>0.875279</td>\n",
       "      <td>0.926040</td>\n",
       "      <td>0.716735</td>\n",
       "      <td>0.579997</td>\n",
       "      <td>0.567182</td>\n",
       "      <td>0.591090</td>\n",
       "      <td>0.628043</td>\n",
       "      <td>0.979734</td>\n",
       "      <td>0.892102</td>\n",
       "      <td>Asia</td>\n",
       "    </tr>\n",
       "    <tr>\n",
       "      <th>212</th>\n",
       "      <td>Yemen, Rep.</td>\n",
       "      <td>YEM</td>\n",
       "      <td>0.583215</td>\n",
       "      <td>0.535905</td>\n",
       "      <td>0.558565</td>\n",
       "      <td>0.372784</td>\n",
       "      <td>0.352850</td>\n",
       "      <td>0.388251</td>\n",
       "      <td>0.326127</td>\n",
       "      <td>0.945041</td>\n",
       "      <td>0.803752</td>\n",
       "      <td>Asia</td>\n",
       "    </tr>\n",
       "    <tr>\n",
       "      <th>213</th>\n",
       "      <td>Zambia</td>\n",
       "      <td>ZMB</td>\n",
       "      <td>0.630647</td>\n",
       "      <td>0.654127</td>\n",
       "      <td>0.622558</td>\n",
       "      <td>0.396928</td>\n",
       "      <td>0.381384</td>\n",
       "      <td>0.410318</td>\n",
       "      <td>0.393052</td>\n",
       "      <td>0.942158</td>\n",
       "      <td>0.732388</td>\n",
       "      <td>Africa</td>\n",
       "    </tr>\n",
       "    <tr>\n",
       "      <th>214</th>\n",
       "      <td>Zimbabwe</td>\n",
       "      <td>ZWE</td>\n",
       "      <td>0.793212</td>\n",
       "      <td>0.765030</td>\n",
       "      <td>0.688611</td>\n",
       "      <td>0.466893</td>\n",
       "      <td>0.444481</td>\n",
       "      <td>0.488259</td>\n",
       "      <td>0.546824</td>\n",
       "      <td>0.953772</td>\n",
       "      <td>0.650399</td>\n",
       "      <td>Africa</td>\n",
       "    </tr>\n",
       "  </tbody>\n",
       "</table>\n",
       "<p>215 rows × 12 columns</p>\n",
       "</div>"
      ],
      "text/plain": [
       "              Country Name Country Code  expected years of school(scaled)  \\\n",
       "0              Afghanistan          AFG                          0.638750   \n",
       "1                  Albania          ALB                          0.924870   \n",
       "2                  Algeria          DZA                          0.850149   \n",
       "3           American Samoa          ASM                          0.809574   \n",
       "4                  Andorra          AND                          0.947634   \n",
       "..                     ...          ...                               ...   \n",
       "210  Virgin Islands (U.S.)          VIR                          0.860326   \n",
       "211     West Bank and Gaza          PSE                          0.875279   \n",
       "212            Yemen, Rep.          YEM                          0.583215   \n",
       "213                 Zambia          ZMB                          0.630647   \n",
       "214               Zimbabwe          ZWE                          0.793212   \n",
       "\n",
       "     Fraction of Children Under 5 Not Stunted  Harmonized Test Scores(scaled)  \\\n",
       "0                                    0.618072                        0.616680   \n",
       "1                                    0.886766                        0.754647   \n",
       "2                                    0.883104                        0.650282   \n",
       "3                                    0.761522                        0.690222   \n",
       "4                                    0.922936                        0.854552   \n",
       "..                                        ...                             ...   \n",
       "210                                  0.835751                        0.719697   \n",
       "211                                  0.926040                        0.716735   \n",
       "212                                  0.535905                        0.558565   \n",
       "213                                  0.654127                        0.622558   \n",
       "214                                  0.765030                        0.688611   \n",
       "\n",
       "     Human Capital Index (0-1)  Human Capital Index Lower Bound (0-1)  \\\n",
       "0                     0.400284                               0.387149   \n",
       "1                     0.634251                               0.624726   \n",
       "2                     0.534556                               0.527311   \n",
       "3                     0.528862                               0.510785   \n",
       "4                     0.710769                               0.701848   \n",
       "..                         ...                                    ...   \n",
       "210                   0.566024                               0.552886   \n",
       "211                   0.579997                               0.567182   \n",
       "212                   0.372784                               0.352850   \n",
       "213                   0.396928                               0.381384   \n",
       "214                   0.466893                               0.444481   \n",
       "\n",
       "     Human Capital Index Upper Bound (0-1)  \\\n",
       "0                                 0.412617   \n",
       "1                                 0.643478   \n",
       "2                                 0.541510   \n",
       "3                                 0.543864   \n",
       "4                                 0.719555   \n",
       "..                                     ...   \n",
       "210                               0.577625   \n",
       "211                               0.591090   \n",
       "212                               0.388251   \n",
       "213                               0.410318   \n",
       "214                               0.488259   \n",
       "\n",
       "     Learning Adjusted Years of School(scaled)  \\\n",
       "0                                     0.394344   \n",
       "1                                     0.698729   \n",
       "2                                     0.553453   \n",
       "3                                     0.566805   \n",
       "4                                     0.812986   \n",
       "..                                         ...   \n",
       "210                                   0.623011   \n",
       "211                                   0.628043   \n",
       "212                                   0.326127   \n",
       "213                                   0.393052   \n",
       "214                                   0.546824   \n",
       "\n",
       "     Probability of Survival to Age 5  Survival Rate from Age 15-60  \\\n",
       "0                            0.937724                      0.787741   \n",
       "1                            0.991177                      0.929366   \n",
       "2                            0.976518                      0.909282   \n",
       "3                            0.974916                      0.845530   \n",
       "4                            0.995263                      0.910403   \n",
       "..                                ...                           ...   \n",
       "210                          0.981438                      0.862782   \n",
       "211                          0.979734                      0.892102   \n",
       "212                          0.945041                      0.803752   \n",
       "213                          0.942158                      0.732388   \n",
       "214                          0.953772                      0.650399   \n",
       "\n",
       "         Continent  \n",
       "0             Asia  \n",
       "1           Europe  \n",
       "2           Africa  \n",
       "3          Oceania  \n",
       "4           Europe  \n",
       "..             ...  \n",
       "210  North America  \n",
       "211           Asia  \n",
       "212           Asia  \n",
       "213         Africa  \n",
       "214         Africa  \n",
       "\n",
       "[215 rows x 12 columns]"
      ]
     },
     "execution_count": 11,
     "metadata": {},
     "output_type": "execute_result"
    }
   ],
   "source": [
    "normalized_list = ['Expected Years of School','Harmonized Test Scores','Learning Adjusted Years of School']\n",
    "df[normalized_list] = df[normalized_list].apply(lambda x:x/x.max())\n",
    "df.rename({\n",
    "    'Expected Years of School':'expected years of school(scaled)',\n",
    "    'Harmonized Test Scores':'Harmonized Test Scores(scaled)',\n",
    "    'Learning Adjusted Years of School':'Learning Adjusted Years of School(scaled)',\n",
    "    ' Human Capital Index (0-1)':'Human Capital Index (0-1)'\n",
    "},axis = 1,inplace=True)\n",
    "df"
   ]
  },
  {
   "cell_type": "code",
   "execution_count": 12,
   "metadata": {},
   "outputs": [
    {
     "data": {
      "text/plain": [
       "['expected years of school(scaled)',\n",
       " 'Fraction of Children Under 5 Not Stunted',\n",
       " 'Harmonized Test Scores(scaled)',\n",
       " 'Human Capital Index (0-1)',\n",
       " 'Human Capital Index Lower Bound (0-1)',\n",
       " 'Human Capital Index Upper Bound (0-1)',\n",
       " 'Learning Adjusted Years of School(scaled)',\n",
       " 'Probability of Survival to Age 5',\n",
       " 'Survival Rate from Age 15-60']"
      ]
     },
     "execution_count": 12,
     "metadata": {},
     "output_type": "execute_result"
    }
   ],
   "source": [
    "num_list = df.select_dtypes('number').columns.to_list()\n",
    "num_list"
   ]
  },
  {
   "cell_type": "code",
   "execution_count": 13,
   "metadata": {},
   "outputs": [],
   "source": [
    "num_list_fixed = [\n",
    "'Human Capital Index (0-1)',\n",
    "'Human Capital Index Upper Bound (0-1)',\n",
    "'Human Capital Index Lower Bound (0-1)',\n",
    "'Learning Adjusted Years of School(scaled)',\n",
    "'Harmonized Test Scores(scaled)',\n",
    "'expected years of school(scaled)',\n",
    "'Fraction of Children Under 5 Not Stunted',\n",
    "'Probability of Survival to Age 5',\n",
    "'Survival Rate from Age 15-60']"
   ]
  },
  {
   "cell_type": "code",
   "execution_count": 15,
   "metadata": {},
   "outputs": [
    {
     "data": {
      "text/html": [
       "<div>\n",
       "<style scoped>\n",
       "    .dataframe tbody tr th:only-of-type {\n",
       "        vertical-align: middle;\n",
       "    }\n",
       "\n",
       "    .dataframe tbody tr th {\n",
       "        vertical-align: top;\n",
       "    }\n",
       "\n",
       "    .dataframe thead th {\n",
       "        text-align: right;\n",
       "    }\n",
       "</style>\n",
       "<table border=\"1\" class=\"dataframe\">\n",
       "  <thead>\n",
       "    <tr style=\"text-align: right;\">\n",
       "      <th></th>\n",
       "      <th>Country Name</th>\n",
       "      <th>Country Code</th>\n",
       "      <th>expected years of school(scaled)</th>\n",
       "      <th>Fraction of Children Under 5 Not Stunted</th>\n",
       "      <th>Harmonized Test Scores(scaled)</th>\n",
       "      <th>Human Capital Index (0-1)</th>\n",
       "      <th>Human Capital Index Lower Bound (0-1)</th>\n",
       "      <th>Human Capital Index Upper Bound (0-1)</th>\n",
       "      <th>Learning Adjusted Years of School(scaled)</th>\n",
       "      <th>Probability of Survival to Age 5</th>\n",
       "      <th>Survival Rate from Age 15-60</th>\n",
       "      <th>Continent</th>\n",
       "      <th>Weighted HCI</th>\n",
       "    </tr>\n",
       "  </thead>\n",
       "  <tbody>\n",
       "    <tr>\n",
       "      <th>169</th>\n",
       "      <td>Singapore</td>\n",
       "      <td>SGP</td>\n",
       "      <td>0.998886</td>\n",
       "      <td>0.774381</td>\n",
       "      <td>1.000000</td>\n",
       "      <td>0.879126</td>\n",
       "      <td>0.871676</td>\n",
       "      <td>0.886268</td>\n",
       "      <td>1.000000</td>\n",
       "      <td>0.997191</td>\n",
       "      <td>0.952393</td>\n",
       "      <td>Asia</td>\n",
       "      <td>42.229743</td>\n",
       "    </tr>\n",
       "    <tr>\n",
       "      <th>185</th>\n",
       "      <td>Sweden</td>\n",
       "      <td>SWE</td>\n",
       "      <td>1.000000</td>\n",
       "      <td>0.922936</td>\n",
       "      <td>0.902811</td>\n",
       "      <td>0.795357</td>\n",
       "      <td>0.785323</td>\n",
       "      <td>0.805023</td>\n",
       "      <td>0.903817</td>\n",
       "      <td>0.997290</td>\n",
       "      <td>0.949876</td>\n",
       "      <td>Europe</td>\n",
       "      <td>41.878457</td>\n",
       "    </tr>\n",
       "    <tr>\n",
       "      <th>92</th>\n",
       "      <td>Ireland</td>\n",
       "      <td>IRL</td>\n",
       "      <td>0.997425</td>\n",
       "      <td>0.922936</td>\n",
       "      <td>0.906229</td>\n",
       "      <td>0.792599</td>\n",
       "      <td>0.783533</td>\n",
       "      <td>0.801085</td>\n",
       "      <td>0.904904</td>\n",
       "      <td>0.996343</td>\n",
       "      <td>0.944305</td>\n",
       "      <td>Europe</td>\n",
       "      <td>41.810717</td>\n",
       "    </tr>\n",
       "    <tr>\n",
       "      <th>66</th>\n",
       "      <td>Finland</td>\n",
       "      <td>FIN</td>\n",
       "      <td>0.986387</td>\n",
       "      <td>0.922936</td>\n",
       "      <td>0.927748</td>\n",
       "      <td>0.796001</td>\n",
       "      <td>0.787025</td>\n",
       "      <td>0.804673</td>\n",
       "      <td>0.916139</td>\n",
       "      <td>0.998305</td>\n",
       "      <td>0.930211</td>\n",
       "      <td>Europe</td>\n",
       "      <td>41.806926</td>\n",
       "    </tr>\n",
       "    <tr>\n",
       "      <th>137</th>\n",
       "      <td>Netherlands</td>\n",
       "      <td>NLD</td>\n",
       "      <td>0.995863</td>\n",
       "      <td>0.922936</td>\n",
       "      <td>0.903285</td>\n",
       "      <td>0.789915</td>\n",
       "      <td>0.780254</td>\n",
       "      <td>0.799555</td>\n",
       "      <td>0.900551</td>\n",
       "      <td>0.996126</td>\n",
       "      <td>0.946277</td>\n",
       "      <td>Europe</td>\n",
       "      <td>41.769646</td>\n",
       "    </tr>\n",
       "    <tr>\n",
       "      <th>...</th>\n",
       "      <td>...</td>\n",
       "      <td>...</td>\n",
       "      <td>...</td>\n",
       "      <td>...</td>\n",
       "      <td>...</td>\n",
       "      <td>...</td>\n",
       "      <td>...</td>\n",
       "      <td>...</td>\n",
       "      <td>...</td>\n",
       "      <td>...</td>\n",
       "      <td>...</td>\n",
       "      <td>...</td>\n",
       "      <td>...</td>\n",
       "    </tr>\n",
       "    <tr>\n",
       "      <th>110</th>\n",
       "      <td>Liberia</td>\n",
       "      <td>LBR</td>\n",
       "      <td>0.298282</td>\n",
       "      <td>0.698640</td>\n",
       "      <td>0.576677</td>\n",
       "      <td>0.319014</td>\n",
       "      <td>0.303158</td>\n",
       "      <td>0.331663</td>\n",
       "      <td>0.172204</td>\n",
       "      <td>0.929063</td>\n",
       "      <td>0.775718</td>\n",
       "      <td>Africa</td>\n",
       "      <td>26.558155</td>\n",
       "    </tr>\n",
       "    <tr>\n",
       "      <th>176</th>\n",
       "      <td>South Sudan</td>\n",
       "      <td>SSD</td>\n",
       "      <td>0.335606</td>\n",
       "      <td>0.687174</td>\n",
       "      <td>0.583354</td>\n",
       "      <td>0.306521</td>\n",
       "      <td>0.267353</td>\n",
       "      <td>0.334475</td>\n",
       "      <td>0.195995</td>\n",
       "      <td>0.901425</td>\n",
       "      <td>0.677223</td>\n",
       "      <td>Africa</td>\n",
       "      <td>25.608540</td>\n",
       "    </tr>\n",
       "    <tr>\n",
       "      <th>141</th>\n",
       "      <td>Niger</td>\n",
       "      <td>NER</td>\n",
       "      <td>0.394524</td>\n",
       "      <td>0.515173</td>\n",
       "      <td>0.530049</td>\n",
       "      <td>0.315685</td>\n",
       "      <td>0.294828</td>\n",
       "      <td>0.332617</td>\n",
       "      <td>0.209350</td>\n",
       "      <td>0.916343</td>\n",
       "      <td>0.766626</td>\n",
       "      <td>Africa</td>\n",
       "      <td>25.556775</td>\n",
       "    </tr>\n",
       "    <tr>\n",
       "      <th>38</th>\n",
       "      <td>Chad</td>\n",
       "      <td>TCD</td>\n",
       "      <td>0.381058</td>\n",
       "      <td>0.602342</td>\n",
       "      <td>0.579050</td>\n",
       "      <td>0.299783</td>\n",
       "      <td>0.281632</td>\n",
       "      <td>0.317157</td>\n",
       "      <td>0.220898</td>\n",
       "      <td>0.881022</td>\n",
       "      <td>0.646125</td>\n",
       "      <td>Africa</td>\n",
       "      <td>24.923882</td>\n",
       "    </tr>\n",
       "    <tr>\n",
       "      <th>37</th>\n",
       "      <td>Central African Republic</td>\n",
       "      <td>CAF</td>\n",
       "      <td>0.327918</td>\n",
       "      <td>0.592000</td>\n",
       "      <td>0.640966</td>\n",
       "      <td>0.291632</td>\n",
       "      <td>0.255837</td>\n",
       "      <td>0.320748</td>\n",
       "      <td>0.210419</td>\n",
       "      <td>0.883522</td>\n",
       "      <td>0.591395</td>\n",
       "      <td>Africa</td>\n",
       "      <td>24.249385</td>\n",
       "    </tr>\n",
       "  </tbody>\n",
       "</table>\n",
       "<p>215 rows × 13 columns</p>\n",
       "</div>"
      ],
      "text/plain": [
       "                 Country Name Country Code  expected years of school(scaled)  \\\n",
       "169                 Singapore          SGP                          0.998886   \n",
       "185                    Sweden          SWE                          1.000000   \n",
       "92                    Ireland          IRL                          0.997425   \n",
       "66                    Finland          FIN                          0.986387   \n",
       "137               Netherlands          NLD                          0.995863   \n",
       "..                        ...          ...                               ...   \n",
       "110                   Liberia          LBR                          0.298282   \n",
       "176               South Sudan          SSD                          0.335606   \n",
       "141                     Niger          NER                          0.394524   \n",
       "38                       Chad          TCD                          0.381058   \n",
       "37   Central African Republic          CAF                          0.327918   \n",
       "\n",
       "     Fraction of Children Under 5 Not Stunted  Harmonized Test Scores(scaled)  \\\n",
       "169                                  0.774381                        1.000000   \n",
       "185                                  0.922936                        0.902811   \n",
       "92                                   0.922936                        0.906229   \n",
       "66                                   0.922936                        0.927748   \n",
       "137                                  0.922936                        0.903285   \n",
       "..                                        ...                             ...   \n",
       "110                                  0.698640                        0.576677   \n",
       "176                                  0.687174                        0.583354   \n",
       "141                                  0.515173                        0.530049   \n",
       "38                                   0.602342                        0.579050   \n",
       "37                                   0.592000                        0.640966   \n",
       "\n",
       "     Human Capital Index (0-1)  Human Capital Index Lower Bound (0-1)  \\\n",
       "169                   0.879126                               0.871676   \n",
       "185                   0.795357                               0.785323   \n",
       "92                    0.792599                               0.783533   \n",
       "66                    0.796001                               0.787025   \n",
       "137                   0.789915                               0.780254   \n",
       "..                         ...                                    ...   \n",
       "110                   0.319014                               0.303158   \n",
       "176                   0.306521                               0.267353   \n",
       "141                   0.315685                               0.294828   \n",
       "38                    0.299783                               0.281632   \n",
       "37                    0.291632                               0.255837   \n",
       "\n",
       "     Human Capital Index Upper Bound (0-1)  \\\n",
       "169                               0.886268   \n",
       "185                               0.805023   \n",
       "92                                0.801085   \n",
       "66                                0.804673   \n",
       "137                               0.799555   \n",
       "..                                     ...   \n",
       "110                               0.331663   \n",
       "176                               0.334475   \n",
       "141                               0.332617   \n",
       "38                                0.317157   \n",
       "37                                0.320748   \n",
       "\n",
       "     Learning Adjusted Years of School(scaled)  \\\n",
       "169                                   1.000000   \n",
       "185                                   0.903817   \n",
       "92                                    0.904904   \n",
       "66                                    0.916139   \n",
       "137                                   0.900551   \n",
       "..                                         ...   \n",
       "110                                   0.172204   \n",
       "176                                   0.195995   \n",
       "141                                   0.209350   \n",
       "38                                    0.220898   \n",
       "37                                    0.210419   \n",
       "\n",
       "     Probability of Survival to Age 5  Survival Rate from Age 15-60 Continent  \\\n",
       "169                          0.997191                      0.952393      Asia   \n",
       "185                          0.997290                      0.949876    Europe   \n",
       "92                           0.996343                      0.944305    Europe   \n",
       "66                           0.998305                      0.930211    Europe   \n",
       "137                          0.996126                      0.946277    Europe   \n",
       "..                                ...                           ...       ...   \n",
       "110                          0.929063                      0.775718    Africa   \n",
       "176                          0.901425                      0.677223    Africa   \n",
       "141                          0.916343                      0.766626    Africa   \n",
       "38                           0.881022                      0.646125    Africa   \n",
       "37                           0.883522                      0.591395    Africa   \n",
       "\n",
       "     Weighted HCI  \n",
       "169     42.229743  \n",
       "185     41.878457  \n",
       "92      41.810717  \n",
       "66      41.806926  \n",
       "137     41.769646  \n",
       "..            ...  \n",
       "110     26.558155  \n",
       "176     25.608540  \n",
       "141     25.556775  \n",
       "38      24.923882  \n",
       "37      24.249385  \n",
       "\n",
       "[215 rows x 13 columns]"
      ]
     },
     "execution_count": 15,
     "metadata": {},
     "output_type": "execute_result"
    }
   ],
   "source": [
    "df['Weighted HCI'] = sum([df[num_list_fixed[i]]*(i+1) for i in range(len(num_list_fixed)-1,-1,-1)])\n",
    "df.sort_values(by='Weighted HCI',ascending=False)"
   ]
  },
  {
   "cell_type": "code",
   "execution_count": 16,
   "metadata": {},
   "outputs": [
    {
     "data": {
      "application/vnd.plotly.v1+json": {
       "config": {
        "plotlyServerURL": "https://plot.ly"
       },
       "data": [
        {
         "coloraxis": "coloraxis",
         "geo": "geo",
         "hovertemplate": "Country Name=%{location}<br>Weighted HCI=%{z}<extra></extra>",
         "locationmode": "country names",
         "locations": [
          "Afghanistan",
          "Albania",
          "Algeria",
          "American Samoa",
          "Andorra",
          "Angola",
          "Antigua and Barbuda",
          "Argentina",
          "Armenia",
          "Aruba",
          "Australia",
          "Austria",
          "Azerbaijan",
          "Bahamas, The",
          "Bahrain",
          "Bangladesh",
          "Barbados",
          "Belarus",
          "Belgium",
          "Belize",
          "Benin",
          "Bermuda",
          "Bhutan",
          "Bolivia",
          "Bosnia and Herzegovina",
          "Botswana",
          "Brazil",
          "British Virgin Islands",
          "Brunei Darussalam",
          "Bulgaria",
          "Burkina Faso",
          "Burundi",
          "Cabo Verde",
          "Cambodia",
          "Cameroon",
          "Canada",
          "Cayman Islands",
          "Central African Republic",
          "Chad",
          "Chile",
          "China",
          "Colombia",
          "Comoros",
          "Congo, Dem. Rep.",
          "Congo, Rep.",
          "Costa Rica",
          "Cote d'Ivoire",
          "Croatia",
          "Cuba",
          "Curacao",
          "Cyprus",
          "Czech Republic",
          "Denmark",
          "Djibouti",
          "Dominica",
          "Dominican Republic",
          "Ecuador",
          "Egypt, Arab Rep.",
          "El Salvador",
          "Equatorial Guinea",
          "Eritrea",
          "Estonia",
          "Eswatini",
          "Ethiopia",
          "Faroe Islands",
          "Fiji",
          "Finland",
          "France",
          "French Polynesia",
          "Gabon",
          "Gambia, The",
          "Georgia",
          "Germany",
          "Ghana",
          "Gibraltar",
          "Greece",
          "Greenland",
          "Grenada",
          "Guam",
          "Guatemala",
          "Guinea",
          "Guinea-Bissau",
          "Guyana",
          "Haiti",
          "Honduras",
          "Hong Kong SAR, China",
          "Hungary",
          "Iceland",
          "India",
          "Indonesia",
          "Iran, Islamic Rep.",
          "Iraq",
          "Ireland",
          "Isle of Man",
          "Israel",
          "Italy",
          "Jamaica",
          "Japan",
          "Jordan",
          "Kazakhstan",
          "Kenya",
          "Kiribati",
          "Korea, Dem. People's Rep.",
          "Korea, Rep.",
          "Kuwait",
          "Kyrgyz Republic",
          "Lao PDR",
          "Latvia",
          "Lebanon",
          "Lesotho",
          "Liberia",
          "Libya",
          "Liechtenstein",
          "Lithuania",
          "Luxembourg",
          "Macao SAR, China",
          "Madagascar",
          "Malawi",
          "Malaysia",
          "Maldives",
          "Mali",
          "Malta",
          "Marshall Islands",
          "Mauritania",
          "Mauritius",
          "Mexico",
          "Micronesia, Fed. Sts.",
          "Moldova",
          "Monaco",
          "Mongolia",
          "Montenegro",
          "Morocco",
          "Mozambique",
          "Myanmar",
          "Namibia",
          "Nauru",
          "Nepal",
          "Netherlands",
          "New Caledonia",
          "New Zealand",
          "Nicaragua",
          "Niger",
          "Nigeria",
          "North Macedonia",
          "Northern Mariana Islands",
          "Norway",
          "Oman",
          "Pakistan",
          "Palau",
          "Panama",
          "Papua New Guinea",
          "Paraguay",
          "Peru",
          "Philippines",
          "Poland",
          "Portugal",
          "Puerto Rico",
          "Qatar",
          "Romania",
          "Russian Federation",
          "Rwanda",
          "Samoa",
          "San Marino",
          "Sao Tome and Principe",
          "Saudi Arabia",
          "Senegal",
          "Serbia",
          "Seychelles",
          "Sierra Leone",
          "Singapore",
          "Sint Maarten (Dutch part)",
          "Slovak Republic",
          "Slovenia",
          "Solomon Islands",
          "Somalia",
          "South Africa",
          "South Sudan",
          "Spain",
          "Sri Lanka",
          "St. Kitts and Nevis",
          "St. Lucia",
          "St. Martin (French part)",
          "St. Vincent and the Grenadines",
          "Sudan",
          "Suriname",
          "Sweden",
          "Switzerland",
          "Syrian Arab Republic",
          "Tajikistan",
          "Tanzania",
          "Thailand",
          "Timor-Leste",
          "Togo",
          "Tonga",
          "Trinidad and Tobago",
          "Tunisia",
          "Turkey",
          "Turkmenistan",
          "Turks and Caicos Islands",
          "Tuvalu",
          "Uganda",
          "Ukraine",
          "United Arab Emirates",
          "United Kingdom",
          "United States",
          "Uruguay",
          "Uzbekistan",
          "Vanuatu",
          "Venezuela, RB",
          "Vietnam",
          "Virgin Islands (U.S.)",
          "West Bank and Gaza",
          "Yemen, Rep.",
          "Zambia",
          "Zimbabwe"
         ],
         "name": "",
         "type": "choropleth",
         "z": [
          29.79819958334366,
          38.41382918439872,
          35.943035463927785,
          34.46447874316189,
          40.0822147874709,
          28.0907804370709,
          37.19282389893984,
          37.68087171041403,
          36.88120369577767,
          36.09921298869734,
          40.269721565714256,
          40.93615766235987,
          36.524231981778954,
          36.09921298869734,
          38.03670094059876,
          32.64010893014538,
          36.09921298869734,
          39.85546775764231,
          41.17213848178908,
          36.09921298869734,
          30.553539657408397,
          36.09921298869734,
          33.10300249361853,
          36.84665058659791,
          37.12026923159285,
          30.750192033254383,
          36.257837817332494,
          36.09921298869734,
          37.53992037932921,
          37.76745852515442,
          29.72000891079455,
          28.10982032677021,
          30.14491029779348,
          33.10285333416176,
          29.767380106162584,
          41.256408720677825,
          36.09921298869734,
          24.249384609886675,
          24.923882183847596,
          38.706436518248026,
          38.96305289569687,
          37.45664158080183,
          30.20142586447269,
          28.299153370332412,
          30.989650477488983,
          37.964888615908,
          29.253789105062815,
          40.19183426366341,
          36.09921298869734,
          36.09921298869734,
          40.114267978945435,
          41.00168932349532,
          41.0672283673102,
          30.14491029779348,
          35.89562813821141,
          35.03193727556735,
          36.59118202319551,
          34.000751789926355,
          35.471291732493754,
          30.14491029779348,
          30.14491029779348,
          41.3523703320492,
          28.424441426233805,
          29.147423097480765,
          40.0822147874709,
          34.63435725664105,
          41.806925957572474,
          41.22673235352561,
          34.46447874316189,
          32.677849088614934,
          31.30995790442581,
          36.050221434779644,
          40.984750454912,
          32.74104386251861,
          40.0822147874709,
          39.858412408712745,
          36.09921298869734,
          36.41810561836469,
          34.46447874316189,
          31.566118969757877,
          29.097367808012663,
          30.14491029779348,
          34.26171551997299,
          32.339548963220494,
          33.40841303769723,
          41.11771886320743,
          39.5239354774039,
          40.970276259006134,
          33.13951885739164,
          34.950152937396375,
          36.67546776442365,
          31.33817275477743,
          41.81071722921846,
          40.0822147874709,
          39.744554544078554,
          40.62200285434573,
          35.87582197860806,
          40.9686949096597,
          35.57153156025443,
          38.092025745859594,
          34.6643626775193,
          33.81351235577406,
          36.187511547620616,
          40.847269339621505,
          36.01908279090802,
          37.13377351002179,
          32.146115412833645,
          39.92384713975999,
          34.58906949147911,
          28.71529113456602,
          26.55815506716327,
          30.14491029779348,
          40.0822147874709,
          39.94071786534465,
          39.71909691697542,
          40.8038196460125,
          29.297137516180626,
          29.934198025394824,
          37.05305428487762,
          36.187511547620616,
          26.715071716128296,
          40.29881003553248,
          30.196669276374283,
          29.889789847597036,
          36.65039604419956,
          37.63207594784799,
          34.248539124537665,
          36.92398347941822,
          40.0822147874709,
          37.34121958197247,
          38.327666467881315,
          34.929835722661316,
          27.591940075472838,
          32.772988688955024,
          31.59696707552554,
          34.57213218850256,
          33.67297880022018,
          41.76964646418318,
          34.46447874316189,
          40.36149573401774,
          34.49274130383975,
          25.556775242719713,
          28.16351673307752,
          36.710932750669016,
          34.46447874316189,
          41.41808541750055,
          37.043893004710974,
          30.404251985425205,
          36.26149823425979,
          34.639119475996026,
          30.227169689546372,
          35.706582301498635,
          37.52161385097099,
          34.13945346901782,
          40.91265519285511,
          41.36502802543984,
          36.09921298869734,
          37.82054640245906,
          37.34599341859731,
          39.33555025438078,
          28.911064127155175,
          36.56142784097725,
          40.0822147874709,
          30.14491029779348,
          36.30200237183199,
          31.513075065833974,
          39.37683070260591,
          36.907396578998295,
          28.328089229841368,
          42.22974269189657,
          40.0822147874709,
          39.19295068859571,
          41.45275385826929,
          30.935830273275272,
          30.14491029779348,
          30.693925723506435,
          25.60854020981456,
          40.585442544451226,
          37.210296633206006,
          36.92818081801245,
          37.81919901117364,
          36.09921298869734,
          35.51590426562044,
          28.85258409147346,
          36.84665058659791,
          41.87845690907656,
          41.142170066357224,
          36.187511547620616,
          34.521713209787656,
          29.592178808770875,
          37.552842175087875,
          31.60563107030105,
          31.417155431320722,
          35.53965437264533,
          37.138267401692616,
          35.512711524295774,
          38.81036094227022,
          36.187511547620616,
          36.09921298869734,
          32.41966389765662,
          29.27113507447989,
          38.29515854495785,
          38.53192524897917,
          41.60840384436118,
          39.298571611619955,
          37.43697395694664,
          37.7373903428367,
          32.46103059434421,
          36.84665058659791,
          38.474293012398945,
          36.09921298869734,
          37.16031506704896,
          28.34990043116341,
          29.53824623727408,
          32.00545719383651
         ]
        }
       ],
       "layout": {
        "coloraxis": {
         "cmax": 42.22974269189657,
         "cmin": 0,
         "colorbar": {
          "title": {
           "text": "Weighted HCI"
          }
         },
         "colorscale": [
          [
           0,
           "rgb(247,251,255)"
          ],
          [
           0.125,
           "rgb(222,235,247)"
          ],
          [
           0.25,
           "rgb(198,219,239)"
          ],
          [
           0.375,
           "rgb(158,202,225)"
          ],
          [
           0.5,
           "rgb(107,174,214)"
          ],
          [
           0.625,
           "rgb(66,146,198)"
          ],
          [
           0.75,
           "rgb(33,113,181)"
          ],
          [
           0.875,
           "rgb(8,81,156)"
          ],
          [
           1,
           "rgb(8,48,107)"
          ]
         ]
        },
        "geo": {
         "center": {},
         "domain": {
          "x": [
           0,
           1
          ],
          "y": [
           0,
           1
          ]
         },
         "oceancolor": "LightBlue",
         "projection": {
          "type": "orthographic"
         },
         "showcoastlines": false,
         "showframe": false,
         "showocean": true
        },
        "height": 800,
        "legend": {
         "tracegroupgap": 0
        },
        "template": {
         "data": {
          "bar": [
           {
            "error_x": {
             "color": "#2a3f5f"
            },
            "error_y": {
             "color": "#2a3f5f"
            },
            "marker": {
             "line": {
              "color": "#E5ECF6",
              "width": 0.5
             },
             "pattern": {
              "fillmode": "overlay",
              "size": 10,
              "solidity": 0.2
             }
            },
            "type": "bar"
           }
          ],
          "barpolar": [
           {
            "marker": {
             "line": {
              "color": "#E5ECF6",
              "width": 0.5
             },
             "pattern": {
              "fillmode": "overlay",
              "size": 10,
              "solidity": 0.2
             }
            },
            "type": "barpolar"
           }
          ],
          "carpet": [
           {
            "aaxis": {
             "endlinecolor": "#2a3f5f",
             "gridcolor": "white",
             "linecolor": "white",
             "minorgridcolor": "white",
             "startlinecolor": "#2a3f5f"
            },
            "baxis": {
             "endlinecolor": "#2a3f5f",
             "gridcolor": "white",
             "linecolor": "white",
             "minorgridcolor": "white",
             "startlinecolor": "#2a3f5f"
            },
            "type": "carpet"
           }
          ],
          "choropleth": [
           {
            "colorbar": {
             "outlinewidth": 0,
             "ticks": ""
            },
            "type": "choropleth"
           }
          ],
          "contour": [
           {
            "colorbar": {
             "outlinewidth": 0,
             "ticks": ""
            },
            "colorscale": [
             [
              0,
              "#0d0887"
             ],
             [
              0.1111111111111111,
              "#46039f"
             ],
             [
              0.2222222222222222,
              "#7201a8"
             ],
             [
              0.3333333333333333,
              "#9c179e"
             ],
             [
              0.4444444444444444,
              "#bd3786"
             ],
             [
              0.5555555555555556,
              "#d8576b"
             ],
             [
              0.6666666666666666,
              "#ed7953"
             ],
             [
              0.7777777777777778,
              "#fb9f3a"
             ],
             [
              0.8888888888888888,
              "#fdca26"
             ],
             [
              1,
              "#f0f921"
             ]
            ],
            "type": "contour"
           }
          ],
          "contourcarpet": [
           {
            "colorbar": {
             "outlinewidth": 0,
             "ticks": ""
            },
            "type": "contourcarpet"
           }
          ],
          "heatmap": [
           {
            "colorbar": {
             "outlinewidth": 0,
             "ticks": ""
            },
            "colorscale": [
             [
              0,
              "#0d0887"
             ],
             [
              0.1111111111111111,
              "#46039f"
             ],
             [
              0.2222222222222222,
              "#7201a8"
             ],
             [
              0.3333333333333333,
              "#9c179e"
             ],
             [
              0.4444444444444444,
              "#bd3786"
             ],
             [
              0.5555555555555556,
              "#d8576b"
             ],
             [
              0.6666666666666666,
              "#ed7953"
             ],
             [
              0.7777777777777778,
              "#fb9f3a"
             ],
             [
              0.8888888888888888,
              "#fdca26"
             ],
             [
              1,
              "#f0f921"
             ]
            ],
            "type": "heatmap"
           }
          ],
          "heatmapgl": [
           {
            "colorbar": {
             "outlinewidth": 0,
             "ticks": ""
            },
            "colorscale": [
             [
              0,
              "#0d0887"
             ],
             [
              0.1111111111111111,
              "#46039f"
             ],
             [
              0.2222222222222222,
              "#7201a8"
             ],
             [
              0.3333333333333333,
              "#9c179e"
             ],
             [
              0.4444444444444444,
              "#bd3786"
             ],
             [
              0.5555555555555556,
              "#d8576b"
             ],
             [
              0.6666666666666666,
              "#ed7953"
             ],
             [
              0.7777777777777778,
              "#fb9f3a"
             ],
             [
              0.8888888888888888,
              "#fdca26"
             ],
             [
              1,
              "#f0f921"
             ]
            ],
            "type": "heatmapgl"
           }
          ],
          "histogram": [
           {
            "marker": {
             "pattern": {
              "fillmode": "overlay",
              "size": 10,
              "solidity": 0.2
             }
            },
            "type": "histogram"
           }
          ],
          "histogram2d": [
           {
            "colorbar": {
             "outlinewidth": 0,
             "ticks": ""
            },
            "colorscale": [
             [
              0,
              "#0d0887"
             ],
             [
              0.1111111111111111,
              "#46039f"
             ],
             [
              0.2222222222222222,
              "#7201a8"
             ],
             [
              0.3333333333333333,
              "#9c179e"
             ],
             [
              0.4444444444444444,
              "#bd3786"
             ],
             [
              0.5555555555555556,
              "#d8576b"
             ],
             [
              0.6666666666666666,
              "#ed7953"
             ],
             [
              0.7777777777777778,
              "#fb9f3a"
             ],
             [
              0.8888888888888888,
              "#fdca26"
             ],
             [
              1,
              "#f0f921"
             ]
            ],
            "type": "histogram2d"
           }
          ],
          "histogram2dcontour": [
           {
            "colorbar": {
             "outlinewidth": 0,
             "ticks": ""
            },
            "colorscale": [
             [
              0,
              "#0d0887"
             ],
             [
              0.1111111111111111,
              "#46039f"
             ],
             [
              0.2222222222222222,
              "#7201a8"
             ],
             [
              0.3333333333333333,
              "#9c179e"
             ],
             [
              0.4444444444444444,
              "#bd3786"
             ],
             [
              0.5555555555555556,
              "#d8576b"
             ],
             [
              0.6666666666666666,
              "#ed7953"
             ],
             [
              0.7777777777777778,
              "#fb9f3a"
             ],
             [
              0.8888888888888888,
              "#fdca26"
             ],
             [
              1,
              "#f0f921"
             ]
            ],
            "type": "histogram2dcontour"
           }
          ],
          "mesh3d": [
           {
            "colorbar": {
             "outlinewidth": 0,
             "ticks": ""
            },
            "type": "mesh3d"
           }
          ],
          "parcoords": [
           {
            "line": {
             "colorbar": {
              "outlinewidth": 0,
              "ticks": ""
             }
            },
            "type": "parcoords"
           }
          ],
          "pie": [
           {
            "automargin": true,
            "type": "pie"
           }
          ],
          "scatter": [
           {
            "fillpattern": {
             "fillmode": "overlay",
             "size": 10,
             "solidity": 0.2
            },
            "type": "scatter"
           }
          ],
          "scatter3d": [
           {
            "line": {
             "colorbar": {
              "outlinewidth": 0,
              "ticks": ""
             }
            },
            "marker": {
             "colorbar": {
              "outlinewidth": 0,
              "ticks": ""
             }
            },
            "type": "scatter3d"
           }
          ],
          "scattercarpet": [
           {
            "marker": {
             "colorbar": {
              "outlinewidth": 0,
              "ticks": ""
             }
            },
            "type": "scattercarpet"
           }
          ],
          "scattergeo": [
           {
            "marker": {
             "colorbar": {
              "outlinewidth": 0,
              "ticks": ""
             }
            },
            "type": "scattergeo"
           }
          ],
          "scattergl": [
           {
            "marker": {
             "colorbar": {
              "outlinewidth": 0,
              "ticks": ""
             }
            },
            "type": "scattergl"
           }
          ],
          "scattermapbox": [
           {
            "marker": {
             "colorbar": {
              "outlinewidth": 0,
              "ticks": ""
             }
            },
            "type": "scattermapbox"
           }
          ],
          "scatterpolar": [
           {
            "marker": {
             "colorbar": {
              "outlinewidth": 0,
              "ticks": ""
             }
            },
            "type": "scatterpolar"
           }
          ],
          "scatterpolargl": [
           {
            "marker": {
             "colorbar": {
              "outlinewidth": 0,
              "ticks": ""
             }
            },
            "type": "scatterpolargl"
           }
          ],
          "scatterternary": [
           {
            "marker": {
             "colorbar": {
              "outlinewidth": 0,
              "ticks": ""
             }
            },
            "type": "scatterternary"
           }
          ],
          "surface": [
           {
            "colorbar": {
             "outlinewidth": 0,
             "ticks": ""
            },
            "colorscale": [
             [
              0,
              "#0d0887"
             ],
             [
              0.1111111111111111,
              "#46039f"
             ],
             [
              0.2222222222222222,
              "#7201a8"
             ],
             [
              0.3333333333333333,
              "#9c179e"
             ],
             [
              0.4444444444444444,
              "#bd3786"
             ],
             [
              0.5555555555555556,
              "#d8576b"
             ],
             [
              0.6666666666666666,
              "#ed7953"
             ],
             [
              0.7777777777777778,
              "#fb9f3a"
             ],
             [
              0.8888888888888888,
              "#fdca26"
             ],
             [
              1,
              "#f0f921"
             ]
            ],
            "type": "surface"
           }
          ],
          "table": [
           {
            "cells": {
             "fill": {
              "color": "#EBF0F8"
             },
             "line": {
              "color": "white"
             }
            },
            "header": {
             "fill": {
              "color": "#C8D4E3"
             },
             "line": {
              "color": "white"
             }
            },
            "type": "table"
           }
          ]
         },
         "layout": {
          "annotationdefaults": {
           "arrowcolor": "#2a3f5f",
           "arrowhead": 0,
           "arrowwidth": 1
          },
          "autotypenumbers": "strict",
          "coloraxis": {
           "colorbar": {
            "outlinewidth": 0,
            "ticks": ""
           }
          },
          "colorscale": {
           "diverging": [
            [
             0,
             "#8e0152"
            ],
            [
             0.1,
             "#c51b7d"
            ],
            [
             0.2,
             "#de77ae"
            ],
            [
             0.3,
             "#f1b6da"
            ],
            [
             0.4,
             "#fde0ef"
            ],
            [
             0.5,
             "#f7f7f7"
            ],
            [
             0.6,
             "#e6f5d0"
            ],
            [
             0.7,
             "#b8e186"
            ],
            [
             0.8,
             "#7fbc41"
            ],
            [
             0.9,
             "#4d9221"
            ],
            [
             1,
             "#276419"
            ]
           ],
           "sequential": [
            [
             0,
             "#0d0887"
            ],
            [
             0.1111111111111111,
             "#46039f"
            ],
            [
             0.2222222222222222,
             "#7201a8"
            ],
            [
             0.3333333333333333,
             "#9c179e"
            ],
            [
             0.4444444444444444,
             "#bd3786"
            ],
            [
             0.5555555555555556,
             "#d8576b"
            ],
            [
             0.6666666666666666,
             "#ed7953"
            ],
            [
             0.7777777777777778,
             "#fb9f3a"
            ],
            [
             0.8888888888888888,
             "#fdca26"
            ],
            [
             1,
             "#f0f921"
            ]
           ],
           "sequentialminus": [
            [
             0,
             "#0d0887"
            ],
            [
             0.1111111111111111,
             "#46039f"
            ],
            [
             0.2222222222222222,
             "#7201a8"
            ],
            [
             0.3333333333333333,
             "#9c179e"
            ],
            [
             0.4444444444444444,
             "#bd3786"
            ],
            [
             0.5555555555555556,
             "#d8576b"
            ],
            [
             0.6666666666666666,
             "#ed7953"
            ],
            [
             0.7777777777777778,
             "#fb9f3a"
            ],
            [
             0.8888888888888888,
             "#fdca26"
            ],
            [
             1,
             "#f0f921"
            ]
           ]
          },
          "colorway": [
           "#636efa",
           "#EF553B",
           "#00cc96",
           "#ab63fa",
           "#FFA15A",
           "#19d3f3",
           "#FF6692",
           "#B6E880",
           "#FF97FF",
           "#FECB52"
          ],
          "font": {
           "color": "#2a3f5f"
          },
          "geo": {
           "bgcolor": "white",
           "lakecolor": "white",
           "landcolor": "#E5ECF6",
           "showlakes": true,
           "showland": true,
           "subunitcolor": "white"
          },
          "hoverlabel": {
           "align": "left"
          },
          "hovermode": "closest",
          "mapbox": {
           "style": "light"
          },
          "paper_bgcolor": "white",
          "plot_bgcolor": "#E5ECF6",
          "polar": {
           "angularaxis": {
            "gridcolor": "white",
            "linecolor": "white",
            "ticks": ""
           },
           "bgcolor": "#E5ECF6",
           "radialaxis": {
            "gridcolor": "white",
            "linecolor": "white",
            "ticks": ""
           }
          },
          "scene": {
           "xaxis": {
            "backgroundcolor": "#E5ECF6",
            "gridcolor": "white",
            "gridwidth": 2,
            "linecolor": "white",
            "showbackground": true,
            "ticks": "",
            "zerolinecolor": "white"
           },
           "yaxis": {
            "backgroundcolor": "#E5ECF6",
            "gridcolor": "white",
            "gridwidth": 2,
            "linecolor": "white",
            "showbackground": true,
            "ticks": "",
            "zerolinecolor": "white"
           },
           "zaxis": {
            "backgroundcolor": "#E5ECF6",
            "gridcolor": "white",
            "gridwidth": 2,
            "linecolor": "white",
            "showbackground": true,
            "ticks": "",
            "zerolinecolor": "white"
           }
          },
          "shapedefaults": {
           "line": {
            "color": "#2a3f5f"
           }
          },
          "ternary": {
           "aaxis": {
            "gridcolor": "white",
            "linecolor": "white",
            "ticks": ""
           },
           "baxis": {
            "gridcolor": "white",
            "linecolor": "white",
            "ticks": ""
           },
           "bgcolor": "#E5ECF6",
           "caxis": {
            "gridcolor": "white",
            "linecolor": "white",
            "ticks": ""
           }
          },
          "title": {
           "x": 0.05
          },
          "xaxis": {
           "automargin": true,
           "gridcolor": "white",
           "linecolor": "white",
           "ticks": "",
           "title": {
            "standoff": 15
           },
           "zerolinecolor": "white",
           "zerolinewidth": 2
          },
          "yaxis": {
           "automargin": true,
           "gridcolor": "white",
           "linecolor": "white",
           "ticks": "",
           "title": {
            "standoff": 15
           },
           "zerolinecolor": "white",
           "zerolinewidth": 2
          }
         }
        },
        "title": {
         "text": "World Heat Map"
        },
        "width": 1200
       }
      }
     },
     "metadata": {},
     "output_type": "display_data"
    }
   ],
   "source": [
    "import plotly.express as px\n",
    "\n",
    "fig = px.choropleth(df, locations='Country Name', locationmode='country names', color='Weighted HCI',\n",
    "                    color_continuous_scale='blues', range_color=(0, df['Weighted HCI'].max()),\n",
    "                    title='World Heat Map')\n",
    "\n",
    "fig.update_layout(\n",
    "    geo=dict(showframe=False, showcoastlines=False, projection_type='orthographic',showocean=True, oceancolor=\"LightBlue\",),\n",
    "    width=1200,  # Set the desired width of the figure\n",
    "    height=800  # Set the desired height of the figure\n",
    ")\n",
    "fig.show()"
   ]
  },
  {
   "cell_type": "code",
   "execution_count": 17,
   "metadata": {},
   "outputs": [],
   "source": [
    "df.to_csv('to_app.csv')"
   ]
  }
 ],
 "metadata": {
  "kernelspec": {
   "display_name": "base",
   "language": "python",
   "name": "python3"
  },
  "language_info": {
   "codemirror_mode": {
    "name": "ipython",
    "version": 3
   },
   "file_extension": ".py",
   "mimetype": "text/x-python",
   "name": "python",
   "nbconvert_exporter": "python",
   "pygments_lexer": "ipython3",
   "version": "3.9.16"
  },
  "orig_nbformat": 4
 },
 "nbformat": 4,
 "nbformat_minor": 2
}
